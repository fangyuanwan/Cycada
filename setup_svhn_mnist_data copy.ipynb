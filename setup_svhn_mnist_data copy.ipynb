{
 "cells": [
  {
   "cell_type": "code",
   "execution_count": null,
   "metadata": {
    "collapsed": true
   },
   "outputs": [],
   "source": [
    "import numpy as np\n",
    "import sys\n",
    "sys.path.append('../')\n",
    "from cycada.data.data_loader import get_dataset\n",
    "import PIL.Image as Image\n",
    "from os.path import join\n",
    "import os"
   ]
  },
  {
   "cell_type": "code",
   "execution_count": null,
   "metadata": {},
   "outputs": [],
   "source": [
    "from torchvision import datasets\n",
    "\n",
    "mnist_dataset = datasets.MNIST('../x/jhoffman/mnist/', train=True, transform=None, \n",
    "                               target_transform=None, download=True)\n",
    "svhn_dataset = datasets.SVHN('../x/jhoffman/svhn/', split='train', transform=None, \n",
    "                             target_transform=None, download=True)"
   ]
  },
  {
   "cell_type": "code",
   "execution_count": null,
   "metadata": {},
   "outputs": [],
   "source": [
    "from torchvision import transforms\n",
    "\n",
    "transform = transforms.Compose([\n",
    "    transforms.ToTensor(),\n",
    "    # Add other transformations if necessary, e.g., normalization\n",
    "    # transforms.Normalize((mean,), (std,))\n",
    "])\n",
    "\n"
   ]
  },
  {
   "cell_type": "code",
   "execution_count": null,
   "metadata": {},
   "outputs": [],
   "source": [
    "from torch.utils.data import DataLoader\n",
    "\n",
    "batch_size = 64  # You can adjust the batch size as needed\n",
    "mnist_loader = DataLoader(mnist_dataset, batch_size=batch_size, shuffle=True)\n"
   ]
  },
  {
   "cell_type": "code",
   "execution_count": null,
   "metadata": {},
   "outputs": [],
   "source": [
    "# Iterating over the DataLoader\n",
    "for i, (images, labels) in enumerate(mnist_loader):\n",
    "    print(f\"Batch {i+1}\")\n",
    "    print(f\"Images Tensor Shape: {images.shape}\")\n",
    "    print(f\"Images Tensor Type: {images.dtype}\")\n",
    "    print(f\"Labels Tensor Shape: {labels.shape}\")\n",
    "    print(f\"Labels Tensor Type: {labels.dtype}\")\n",
    "    print(\"-\" * 30)\n",
    "\n",
    "    # Optionally, break after the first batch if you just want to see the format of one batch\n",
    "    break"
   ]
  },
  {
   "cell_type": "code",
   "execution_count": null,
   "metadata": {
    "collapsed": true
   },
   "outputs": [],
   "source": [
    "# CUDA_VISIBLE_DEVICES=1 \n",
    "# !python train.py --name experiment_name \\ \n",
    "# --dataroot path_to_gta2cityscape --resize_or_crop=crop --loadSize=360 --fineSize=360 --identity 1.0 \\\n",
    "# --which_model_netD n_layers --n_layers_D 3"
   ]
  },
  {
   "cell_type": "code",
   "execution_count": null,
   "metadata": {},
   "outputs": [],
   "source": [
    "%cd "
   ]
  },
  {
   "cell_type": "code",
   "execution_count": null,
   "metadata": {
    "collapsed": true
   },
   "outputs": [],
   "source": [
    "import os\n",
    "\n",
    "# Set the environment variable\n",
    "\n",
    "!python ../cyclegan/pytorch-CycleGAN-and-pix2pix/train.py --name test_svhn2mnist \\\n",
    "--dataroot ../x/jhoffman/cyclegan_data/svhn2mnist/ --resize_or_crop=None \\\n",
    "--loadSize=32 --fineSize=32 --which_model_netD n_layers --n_layers_D 3 \\\n",
    "--no_flip --model cycle_gan --lambda_A 1 --lambda_B 1 --lambda_identity 1.0 --gpu_ids 0"
   ]
  },
  {
   "cell_type": "code",
   "execution_count": null,
   "metadata": {},
   "outputs": [],
   "source": [
    "!ls"
   ]
  },
  {
   "cell_type": "code",
   "execution_count": null,
   "metadata": {},
   "outputs": [],
   "source": [
    "!ls"
   ]
  },
  {
   "cell_type": "code",
   "execution_count": null,
   "metadata": {},
   "outputs": [],
   "source": [
    "import sys\n",
    "import os\n",
    "\n",
    "print(sys.path)"
   ]
  },
  {
   "cell_type": "code",
   "execution_count": null,
   "metadata": {},
   "outputs": [],
   "source": [
    "sys.path.insert(0, '/Users/pomvrp/Documents/NTU AI Courses/AI6121 computer vision/18 Nov Project/cycada_release/cycada')"
   ]
  },
  {
   "cell_type": "code",
   "execution_count": null,
   "metadata": {},
   "outputs": [],
   "source": [
    "!ls"
   ]
  },
  {
   "cell_type": "code",
   "execution_count": null,
   "metadata": {},
   "outputs": [],
   "source": []
  },
  {
   "cell_type": "code",
   "execution_count": null,
   "metadata": {},
   "outputs": [],
   "source": [
    "! python train_adda.py --name svhn2mnist-adaptive \\\n",
    "--dataroot FY/cyclegan_data/ICDAR2013_2015/ --resize_or_crop=None \\\n",
    "--loadSize=32 --fineSize=32 --which_model_netD n_layers --n_layers_D 3 \\\n",
    "--no_flip --model LeNet --lambda_A 1 --lambda_B 1 --lambda_identity 1.0 --gpu_ids -1"
   ]
  },
  {
   "cell_type": "code",
   "execution_count": 6,
   "metadata": {},
   "outputs": [],
   "source": [
    "import os\n",
    "os.environ['CUDA_VISIBLE_DEVICES'] = '0'"
   ]
  },
  {
   "cell_type": "code",
   "execution_count": 7,
   "metadata": {},
   "outputs": [
    {
     "name": "stderr",
     "output_type": "stream",
     "text": [
      "d:\\RBG-codes-20230901T140438Z-001\\Cycada\\Cycada\\myenv\\lib\\site-packages\\tqdm\\auto.py:21: TqdmWarning: IProgress not found. Please update jupyter and ipywidgets. See https://ipywidgets.readthedocs.io/en/stable/user_install.html\n",
      "  from .autonotebook import tqdm as notebook_tqdm\n"
     ]
    },
    {
     "name": "stdout",
     "output_type": "stream",
     "text": [
      "CUDA is available. GPU is ready for use.\n",
      "GPU Name: NVIDIA GeForce GTX 1080\n"
     ]
    }
   ],
   "source": [
    "import torch\n",
    "\n",
    "# Check if CUDA is available\n",
    "if torch.cuda.is_available():\n",
    "    print(\"CUDA is available. GPU is ready for use.\")\n",
    "    print(\"GPU Name:\", torch.cuda.get_device_name(0))\n",
    "else:\n",
    "    print(\"CUDA is not available. Check your GPU drivers and settings.\")\n"
   ]
  },
  {
   "cell_type": "code",
   "execution_count": 10,
   "metadata": {},
   "outputs": [
    {
     "name": "stdout",
     "output_type": "stream",
     "text": [
      "^C\n"
     ]
    },
    {
     "name": "stdout",
     "output_type": "stream",
     "text": [
      "Registering data params: svhn\n",
      "Registering data params: svhn\n",
      "Registering data params: usps\n",
      "Registering data params: usps\n",
      "Registering data params: mnist\n",
      "Registering data params: mnist\n",
      "Registering data params: svhn2mnist\n",
      "Registering data params: svhn2mnist\n",
      "Registering data params: usps2mnist\n",
      "Registering data params: usps2mnist\n",
      "Registering data params: mnist2usps\n",
      "Registering data params: mnist2usps\n",
      "Registering data params: cityscapes\n",
      "Registering data params: cityscapes\n",
      "Registering data params: gta5\n",
      "Registering data params: gta5\n",
      "Registering data params: cyclegta5\n",
      "Registering data params: icdar2013\n",
      "Registering data params: icdar2013\n",
      "Registering data params: icdar2015\n",
      "Registering data params: icdar2015\n",
      "-------Training net--------\n",
      "LeNet(\n",
      "  (conv_params): Sequential(\n",
      "    (0): Conv2d(1, 20, kernel_size=(5, 5), stride=(1, 1))\n",
      "    (1): MaxPool2d(kernel_size=2, stride=2, padding=0, dilation=1, ceil_mode=False)\n",
      "    (2): ReLU()\n",
      "    (3): Conv2d(20, 50, kernel_size=(5, 5), stride=(1, 1))\n",
      "    (4): Dropout2d(p=0.5, inplace=False)\n",
      "    (5): MaxPool2d(kernel_size=2, stride=2, padding=0, dilation=1, ceil_mode=False)\n",
      "    (6): ReLU()\n",
      "  )\n",
      "  (fc_params): Linear(in_features=800, out_features=500, bias=True)\n",
      "  (classifier): Sequential(\n",
      "    (0): ReLU()\n",
      "    (1): Dropout(p=0.5, inplace=False)\n",
      "    (2): Linear(in_features=500, out_features=2, bias=True)\n",
      "  )\n",
      "  (criterion): CrossEntropyLoss()\n",
      ")\n",
      "get dataset: icdar2013 FY/icdar2013 train\n",
      "get dataset: icdar2013 FY/icdar2013 test\n",
      "Registering data params: svhn\n",
      "Registering data params: svhn\n",
      "Registering data params: usps\n",
      "Registering data params: usps\n",
      "Registering data params: mnist\n",
      "Registering data params: mnist\n",
      "Registering data params: svhn2mnist\n",
      "Registering data params: svhn2mnist\n",
      "Registering data params: usps2mnist\n",
      "Registering data params: usps2mnist\n",
      "Registering data params: mnist2usps\n",
      "Registering data params: mnist2usps\n",
      "Registering data params: cityscapes\n",
      "Registering data params: cityscapes\n",
      "Registering data params: gta5\n",
      "Registering data params: gta5\n",
      "Registering data params: cyclegta5\n",
      "Registering data params: icdar2013\n",
      "Registering data params: icdar2013\n",
      "Registering data params: icdar2015\n",
      "Registering data params: icdar2015\n",
      "Batch 1\n",
      "Images Tensor Shape: torch.Size([128, 1, 28, 28])\n",
      "Images Tensor Type: torch.float32\n",
      "Labels Tensor Shape: torch.Size([128])\n",
      "Labels Tensor Type: torch.int64\n",
      "Batch 2\n",
      "Images Tensor Shape: torch.Size([128, 1, 28, 28])\n",
      "Images Tensor Type: torch.float32\n",
      "Labels Tensor Shape: torch.Size([128])\n",
      "Labels Tensor Type: torch.int64\n",
      "Batch 3\n",
      "Images Tensor Shape: torch.Size([128, 1, 28, 28])\n",
      "Images Tensor Type: torch.float32\n",
      "Labels Tensor Shape: torch.Size([128])\n",
      "Labels Tensor Type: torch.int64\n",
      "Registering data params: svhn\n",
      "Registering data params: svhn\n",
      "Registering data params: usps\n",
      "Registering data params: usps\n",
      "Registering data params: mnist\n",
      "Registering data params: mnist\n",
      "Registering data params: svhn2mnist\n",
      "Registering data params: svhn2mnist\n",
      "Registering data params: usps2mnist\n",
      "Registering data params: usps2mnist\n",
      "Registering data params: mnist2usps\n",
      "Registering data params: mnist2usps\n",
      "Registering data params: cityscapes\n",
      "Registering data params: cityscapes\n",
      "Registering data params: gta5\n",
      "Registering data params: gta5\n",
      "Registering data params: cyclegta5\n",
      "Registering data params: icdar2013\n",
      "Registering data params: icdar2013\n",
      "Registering data params: icdar2015\n",
      "Registering data params: icdar2015\n",
      "Batch 1\n",
      "Images Tensor Shape: torch.Size([128, 1, 28, 28])\n",
      "Images Tensor Type: torch.float32\n",
      "Labels Tensor Shape: torch.Size([128])\n",
      "Labels Tensor Type: torch.int64\n",
      "Batch 2\n",
      "Images Tensor Shape: torch.Size([128, 1, 28, 28])\n",
      "Images Tensor Type: torch.float32\n",
      "Labels Tensor Shape: torch.Size([128])\n",
      "Labels Tensor Type: torch.int64\n",
      "Batch 3\n",
      "Images Tensor Shape: torch.Size([128, 1, 28, 28])\n",
      "Images Tensor Type: torch.float32\n",
      "Labels Tensor Shape: torch.Size([128])\n",
      "Labels Tensor Type: torch.int64\n",
      "Training LeNet model for icdar2013\n",
      "Registering data params: svhn\n",
      "Registering data params: svhn\n",
      "Registering data params: usps\n",
      "Registering data params: usps\n",
      "Registering data params: mnist\n",
      "Registering data params: mnist\n",
      "Registering data params: svhn2mnist\n",
      "Registering data params: svhn2mnist\n",
      "Registering data params: usps2mnist\n",
      "Registering data params: usps2mnist\n",
      "Registering data params: mnist2usps\n",
      "Registering data params: mnist2usps\n",
      "Registering data params: cityscapes\n",
      "Registering data params: cityscapes\n",
      "Registering data params: gta5\n",
      "Registering data params: gta5\n",
      "Registering data params: cyclegta5\n",
      "Registering data params: icdar2013\n",
      "Registering data params: icdar2013\n",
      "Registering data params: icdar2015\n",
      "Registering data params: icdar2015\n",
      "[Train] Epoch: 0 [0/846 (0%)]\tLoss: 0.718460  Acc: 42.19\n",
      "Evaluating LeNet-icdar2013 model on icdar2013 test set\n",
      "Registering data params: svhn\n",
      "Registering data params: svhn\n",
      "Registering data params: usps\n",
      "Registering data params: usps\n",
      "Registering data params: mnist\n",
      "Registering data params: mnist\n",
      "Registering data params: svhn2mnist\n",
      "Registering data params: svhn2mnist\n",
      "Registering data params: usps2mnist\n",
      "Registering data params: usps2mnist\n",
      "Registering data params: mnist2usps\n",
      "Registering data params: mnist2usps\n",
      "Registering data params: cityscapes\n",
      "Registering data params: cityscapes\n",
      "Registering data params: gta5\n",
      "Registering data params: gta5\n",
      "Registering data params: cyclegta5\n",
      "Registering data params: icdar2013\n",
      "Registering data params: icdar2013\n",
      "Registering data params: icdar2015\n",
      "Registering data params: icdar2015\n",
      "[Evaluate] Average loss: 0.4344, Accuracy: 1093/1093 (100.00%)\n",
      "\n",
      "Saving to results/icdar2013_to_icdar2015/iter_1\\LeNet_net_icdar2013.pth\n",
      "AddaNet(\n",
      "  (cls_criterion): CrossEntropyLoss()\n",
      "  (gan_criterion): CrossEntropyLoss()\n",
      "  (src_net): LeNet(\n",
      "    (conv_params): Sequential(\n",
      "      (0): Conv2d(1, 20, kernel_size=(5, 5), stride=(1, 1))\n",
      "      (1): MaxPool2d(kernel_size=2, stride=2, padding=0, dilation=1, ceil_mode=False)\n",
      "      (2): ReLU()\n",
      "      (3): Conv2d(20, 50, kernel_size=(5, 5), stride=(1, 1))\n",
      "      (4): Dropout2d(p=0.5, inplace=False)\n",
      "      (5): MaxPool2d(kernel_size=2, stride=2, padding=0, dilation=1, ceil_mode=False)\n",
      "      (6): ReLU()\n",
      "    )\n",
      "    (fc_params): Linear(in_features=800, out_features=500, bias=True)\n",
      "    (classifier): Sequential(\n",
      "      (0): ReLU()\n",
      "      (1): Dropout(p=0.5, inplace=False)\n",
      "      (2): Linear(in_features=500, out_features=2, bias=True)\n",
      "    )\n",
      "    (criterion): CrossEntropyLoss()\n",
      "  )\n",
      "  (tgt_net): LeNet(\n",
      "    (conv_params): Sequential(\n",
      "      (0): Conv2d(1, 20, kernel_size=(5, 5), stride=(1, 1))\n",
      "      (1): MaxPool2d(kernel_size=2, stride=2, padding=0, dilation=1, ceil_mode=False)\n",
      "      (2): ReLU()\n",
      "      (3): Conv2d(20, 50, kernel_size=(5, 5), stride=(1, 1))\n",
      "      (4): Dropout2d(p=0.5, inplace=False)\n",
      "      (5): MaxPool2d(kernel_size=2, stride=2, padding=0, dilation=1, ceil_mode=False)\n",
      "      (6): ReLU()\n",
      "    )\n",
      "    (fc_params): Linear(in_features=800, out_features=500, bias=True)\n",
      "    (classifier): Sequential(\n",
      "      (0): ReLU()\n",
      "      (1): Dropout(p=0.5, inplace=False)\n",
      "      (2): Linear(in_features=500, out_features=2, bias=True)\n",
      "    )\n",
      "    (criterion): CrossEntropyLoss()\n",
      "  )\n",
      "  (discriminator): Sequential(\n",
      "    (0): Linear(in_features=2, out_features=500, bias=True)\n",
      "    (1): ReLU()\n",
      "    (2): Linear(in_features=500, out_features=500, bias=True)\n",
      "    (3): ReLU()\n",
      "    (4): Linear(in_features=500, out_features=2, bias=True)\n",
      "  )\n",
      ")\n",
      "Training Adda LeNet model for icdar2013->icdar2015\n",
      "get dataset: icdar2013 FY/icdar2013 train\n",
      "get dataset: icdar2015 FY/icdar2015 train\n",
      "Registering data params: svhn\n",
      "Registering data params: svhn\n",
      "Registering data params: usps\n",
      "Registering data params: usps\n",
      "Registering data params: mnist\n",
      "Registering data params: mnist\n",
      "Registering data params: svhn2mnist\n",
      "Registering data params: svhn2mnist\n",
      "Registering data params: usps2mnist\n",
      "Registering data params: usps2mnist\n",
      "Registering data params: mnist2usps\n",
      "Registering data params: mnist2usps\n",
      "Registering data params: cityscapes\n",
      "Registering data params: cityscapes\n",
      "Registering data params: gta5\n",
      "Registering data params: gta5\n",
      "Registering data params: cyclegta5\n",
      "Registering data params: icdar2013\n",
      "Registering data params: icdar2013\n",
      "Registering data params: icdar2015\n",
      "Registering data params: icdar2015\n",
      "Registering data params: svhn\n",
      "Registering data params: svhn\n",
      "Registering data params: usps\n",
      "Registering data params: usps\n",
      "Registering data params: mnist\n",
      "Registering data params: mnist\n",
      "Registering data params: svhn2mnist\n",
      "Registering data params: svhn2mnist\n",
      "Registering data params: usps2mnist\n",
      "Registering data params: usps2mnist\n",
      "Registering data params: mnist2usps\n",
      "Registering data params: mnist2usps\n",
      "Registering data params: cityscapes\n",
      "Registering data params: cityscapes\n",
      "Registering data params: gta5\n",
      "Registering data params: gta5\n",
      "Registering data params: cyclegta5\n",
      "Registering data params: icdar2013\n",
      "Registering data params: icdar2013\n",
      "Registering data params: icdar2015\n",
      "Registering data params: icdar2015\n",
      "[Train Adda] Epoch: 0 [0/846 (0.00%)] acc: 50.0 D: 0.700\n",
      "Saving to results/icdar2013_to_icdar2015/iter_1\\adda_LeNet_net_icdar2013_icdar2015.pth\n",
      "\n",
      "----------------\n",
      "Test set: icdar2015\n",
      "----------------\n",
      "Evaluating icdar2013 source model: results/icdar2013_to_icdar2015/iter_1\\LeNet_net_icdar2013.pth\n",
      "get dataset: icdar2015 FY/icdar2015 test\n",
      "Registering data params: svhn\n",
      "Registering data params: svhn\n",
      "Registering data params: usps\n",
      "Registering data params: usps\n",
      "Registering data params: mnist\n",
      "Registering data params: mnist\n",
      "Registering data params: svhn2mnist\n",
      "Registering data params: svhn2mnist\n",
      "Registering data params: usps2mnist\n",
      "Registering data params: usps2mnist\n",
      "Registering data params: mnist2usps\n",
      "Registering data params: mnist2usps\n",
      "Registering data params: cityscapes\n",
      "Registering data params: cityscapes\n",
      "Registering data params: gta5\n",
      "Registering data params: gta5\n",
      "Registering data params: cyclegta5\n",
      "Registering data params: icdar2013\n",
      "Registering data params: icdar2013\n",
      "Registering data params: icdar2015\n",
      "Registering data params: icdar2015\n",
      "[Evaluate] Average loss: 0.7740, Accuracy: 2071/5224 (39.64%)\n",
      "\n",
      "0\n",
      "Evaluating icdar2013->icdar2015 adda model: results/icdar2013_to_icdar2015/iter_1\\adda_LeNet_net_icdar2013_icdar2015.pth\n",
      "get dataset: icdar2015 FY/icdar2015 test\n",
      "Registering data params: svhn\n",
      "Registering data params: svhn\n",
      "Registering data params: usps\n",
      "Registering data params: usps\n",
      "Registering data params: mnist\n",
      "Registering data params: mnist\n",
      "Registering data params: svhn2mnist\n",
      "Registering data params: svhn2mnist\n",
      "Registering data params: usps2mnist\n",
      "Registering data params: usps2mnist\n",
      "Registering data params: mnist2usps\n",
      "Registering data params: mnist2usps\n",
      "Registering data params: cityscapes\n",
      "Registering data params: cityscapes\n",
      "Registering data params: gta5\n",
      "Registering data params: gta5\n",
      "Registering data params: cyclegta5\n",
      "Registering data params: icdar2013\n",
      "Registering data params: icdar2013\n",
      "Registering data params: icdar2015\n",
      "Registering data params: icdar2015\n",
      "[Evaluate] Average loss: 0.7744, Accuracy: 2071/5224 (39.64%)\n",
      "\n",
      "0\n"
     ]
    }
   ],
   "source": [
    "! python train_adda.py "
   ]
  },
  {
   "cell_type": "code",
   "execution_count": null,
   "metadata": {},
   "outputs": [],
   "source": [
    "\n",
    "\n",
    "import sys\n",
    "import os\n",
    "# A domain adaptive semantic segmentation model that is trained with the translated source data and evaluated over the target data.\n",
    "! python train_adda.py --name ICDAR2013to2015-adaptive \\\n",
    "--dataroot FY/cyclegan_data/ICDAR2013_2015/ --resize_or_crop=None \\\n",
    "--loadSize=32 --fineSize=32 --which_model_netD n_layers --n_layers_D 3 \\\n",
    "--no_flip --model LeNet --lambda_A 1 --lambda_B 1 --lambda_identity 1.0 --gpu_ids -1"
   ]
  },
  {
   "cell_type": "code",
   "execution_count": 33,
   "metadata": {},
   "outputs": [
    {
     "name": "stdout",
     "output_type": "stream",
     "text": [
      " ������ D �еľ��� DATA\n",
      " �������к��� 3EFD-1EEA\n",
      "\n",
      " D:\\RBG-codes-20230901T140438Z-001\\Cycada ��Ŀ¼\n",
      "\n",
      "2023/11/19  18:33    <DIR>          .\n",
      "2023/11/19  18:33    <DIR>          ..\n",
      "2023/11/21  16:28    <DIR>          Cycada\n",
      "               0 ���ļ�              0 �ֽ�\n",
      "               3 ��Ŀ¼ 1,817,635,979,264 �����ֽ�\n"
     ]
    }
   ],
   "source": [
    "import sys\n",
    "sys.path.append('../')\n",
    "!dir"
   ]
  },
  {
   "cell_type": "code",
   "execution_count": 2,
   "metadata": {},
   "outputs": [
    {
     "name": "stdout",
     "output_type": "stream",
     "text": [
      "d:\\RBG-codes-20230901T140438Z-001\\Cycada\\Cycada\n"
     ]
    }
   ],
   "source": [
    "%cd  D:\\RBG-codes-20230901T140438Z-001\\Cycada\\Cycada"
   ]
  },
  {
   "cell_type": "code",
   "execution_count": 9,
   "metadata": {},
   "outputs": [
    {
     "name": "stdout",
     "output_type": "stream",
     "text": [
      "------------ Options -------------\n",
      "batchSize: 16\n",
      "beta1: 0.5\n",
      "checkpoints_dir: ./checkpoints\n",
      "continue_train: False\n",
      "dataroot: FY/\n",
      "dataset_mode: icdar2013_icdar2015\n",
      "display_freq: 400\n",
      "display_id: 1\n",
      "display_ncols: 4\n",
      "display_port: 8097\n",
      "display_server: http://localhost\n",
      "display_winsize: 256\n",
      "epoch_count: 1\n",
      "fineSize: 128\n",
      "gpu_ids: [0]\n",
      "init_type: normal\n",
      "input_nc: 3\n",
      "isTrain: True\n",
      "lambda_A: 1.0\n",
      "lambda_B: 1.0\n",
      "lambda_identity: 0.0\n",
      "loadSize: 128\n",
      "lr: 0.0002\n",
      "lr_decay_iters: 50\n",
      "lr_policy: lambda\n",
      "max_dataset_size: inf\n",
      "model: cycle_gan_semantic\n",
      "nThreads: 4\n",
      "n_layers_D: 3\n",
      "name: cycada_icdar132icdar15_noIdentity\n",
      "ndf: 64\n",
      "ngf: 64\n",
      "niter: 100\n",
      "niter_decay: 100\n",
      "no_dropout: False\n",
      "no_flip: True\n",
      "no_html: False\n",
      "no_lsgan: False\n",
      "norm: instance\n",
      "output_nc: 3\n",
      "phase: train\n",
      "pool_size: 50\n",
      "print_freq: 100\n",
      "resize_or_crop: None\n",
      "save_epoch_freq: 5\n",
      "save_latest_freq: 5000\n",
      "serial_batches: False\n",
      "suffix: \n",
      "update_html_freq: 1000\n",
      "verbose: False\n",
      "which_direction: AtoB\n",
      "which_epoch: latest\n",
      "which_model_netD: n_layers\n",
      "which_model_netG: resnet_9blocks\n",
      "-------------- End ----------------\n",
      "CustomDatasetDataLoader\n",
      "dataset [CustomDataset] was created\n",
      "#training images = 10869\n",
      "initialize network with normal\n",
      "initialize network with normal\n",
      "initialize network with normal\n",
      "initialize network with normal\n",
      "initialize network with normal\n",
      "model [CycleGANModel] was created\n",
      "---------- Networks initialized -------------\n",
      "[Network G_A] Total number of parameters : 11.378 M\n",
      "[Network G_B] Total number of parameters : 11.378 M\n",
      "[Network D_A] Total number of parameters : 2.765 M\n",
      "[Network D_B] Total number of parameters : 2.765 M\n",
      "[Network CLS] Total number of parameters : 0.682 M\n",
      "-----------------------------------------------\n",
      "create web directory ./checkpoints\\cycada_icdar132icdar15_noIdentity\\web...\n"
     ]
    },
    {
     "name": "stderr",
     "output_type": "stream",
     "text": [
      "Setting up a new session...\n",
      "Traceback (most recent call last):\n",
      "  File \"cyclegan/pytorch-CycleGAN-and-pix2pix/train.py\", line 32, in <module>\n",
      "    model.optimize_parameters()\n",
      "  File \"d:\\RBG-codes-20230901T140438Z-001\\Cycada\\Cycada\\cyclegan\\pytorch-CycleGAN-and-pix2pix\\models\\cycle_gan_semantic_model.py\", line 180, in optimize_parameters\n",
      "    self.forward()\n",
      "  File \"d:\\RBG-codes-20230901T140438Z-001\\Cycada\\Cycada\\cyclegan\\pytorch-CycleGAN-and-pix2pix\\models\\cycle_gan_semantic_model.py\", line 97, in forward\n",
      "    self.pred_real_A = self.netCLS(self.real_A)\n",
      "  File \"d:\\RBG-codes-20230901T140438Z-001\\Cycada\\Cycada\\myenv\\lib\\site-packages\\torch\\nn\\modules\\module.py\", line 1190, in _call_impl\n",
      "    return forward_call(*input, **kwargs)\n",
      "  File \"d:\\RBG-codes-20230901T140438Z-001\\Cycada\\Cycada\\myenv\\lib\\site-packages\\torch\\nn\\parallel\\data_parallel.py\", line 169, in forward\n",
      "    return self.module(*inputs[0], **kwargs[0])\n",
      "  File \"d:\\RBG-codes-20230901T140438Z-001\\Cycada\\Cycada\\myenv\\lib\\site-packages\\torch\\nn\\modules\\module.py\", line 1190, in _call_impl\n",
      "    return forward_call(*input, **kwargs)\n",
      "  File \"d:\\RBG-codes-20230901T140438Z-001\\Cycada\\Cycada\\cyclegan\\pytorch-CycleGAN-and-pix2pix\\models\\networks.py\", line 430, in forward\n",
      "    out = self.after_linear(self.before_linear(x).view(bs, -1))\n",
      "  File \"d:\\RBG-codes-20230901T140438Z-001\\Cycada\\Cycada\\myenv\\lib\\site-packages\\torch\\nn\\modules\\module.py\", line 1190, in _call_impl\n",
      "    return forward_call(*input, **kwargs)\n",
      "  File \"d:\\RBG-codes-20230901T140438Z-001\\Cycada\\Cycada\\myenv\\lib\\site-packages\\torch\\nn\\modules\\container.py\", line 204, in forward\n",
      "    input = module(input)\n",
      "  File \"d:\\RBG-codes-20230901T140438Z-001\\Cycada\\Cycada\\myenv\\lib\\site-packages\\torch\\nn\\modules\\module.py\", line 1190, in _call_impl\n",
      "    return forward_call(*input, **kwargs)\n",
      "  File \"d:\\RBG-codes-20230901T140438Z-001\\Cycada\\Cycada\\myenv\\lib\\site-packages\\torch\\nn\\modules\\linear.py\", line 114, in forward\n",
      "    return F.linear(input, self.weight, self.bias)\n",
      "RuntimeError: mat1 and mat2 shapes cannot be multiplied (16x12544 and 256x1024)\n"
     ]
    }
   ],
   "source": [
    "#CUDA_VISIBLE_DEVICES=1 \n",
    "!python cyclegan/pytorch-CycleGAN-and-pix2pix/train.py --name cycada_icdar132icdar15_noIdentity \\\n",
    "--resize_or_crop=None \\\n",
    "--loadSize=128 --fineSize=128 --which_model_netD n_layers --n_layers_D 3 \\\n",
    "    --model cycle_gan_semantic \\\n",
    "    --lambda_A 1 --lambda_B 1 --lambda_identity 0 \\\n",
    "    --no_flip --batchSize 16 \\\n",
    "    --dataset_mode icdar2013_icdar2015 --dataroot FY/ \\\n",
    "    --which_direction AtoB --gpu_ids 0"
   ]
  },
  {
   "cell_type": "code",
   "execution_count": null,
   "metadata": {},
   "outputs": [],
   "source": [
    "import subprocess\n",
    "\n",
    "# Define the path to your .sh file\n",
    "script_path = \"scripts/train_fcn_adda.sh\"\n",
    "\n",
    "# Run the shell script\n",
    "subprocess.run([\"bash\", script_path])"
   ]
  },
  {
   "cell_type": "code",
   "execution_count": null,
   "metadata": {},
   "outputs": [],
   "source": [
    "dirname = join(outdir, 'trainB')\n",
    "for i in range(10):\n",
    "    img = Image.open(join(dirname, '{:d}.png'.format(i)))\n",
    "\n",
    "    plt.subplot(5,5,i+1)\n",
    "    plt.imshow(img)\n",
    "    plt.grid('off')\n",
    "    plt.axis('off')"
   ]
  },
  {
   "cell_type": "code",
   "execution_count": null,
   "metadata": {},
   "outputs": [],
   "source": [
    "dirname = join(outdir, 'trainA')\n",
    "for i in range(10):\n",
    "    img = Image.open(join(dirname, '{:d}.png'.format(i)))\n",
    "    plt.subplot(5,5,i+1)\n",
    "    plt.imshow(img)\n",
    "    plt.grid('off')\n",
    "    plt.axis('off')"
   ]
  },
  {
   "cell_type": "code",
   "execution_count": null,
   "metadata": {
    "collapsed": true
   },
   "outputs": [],
   "source": [
    "y = svhn_dataset.labels"
   ]
  },
  {
   "cell_type": "code",
   "execution_count": null,
   "metadata": {},
   "outputs": [],
   "source": [
    "count,bins = np.histogram(y.squeeze(), bins=10)\n",
    "plt.bar(range(10), count); plt.title('P(Y) for SVHN')"
   ]
  },
  {
   "cell_type": "code",
   "execution_count": null,
   "metadata": {
    "collapsed": true
   },
   "outputs": [],
   "source": [
    "min_num = min(count)\n",
    "ind = np.zeros((10,min_num), dtype=int)\n",
    "for i in np.unique(y):\n",
    "    binary_ind = np.where(y.squeeze() == i)[0]\n",
    "    np.random.shuffle(binary_ind)\n",
    "    \n",
    "    ind[i-1,:] = binary_ind[:min_num]\n",
    "\n",
    "ind = ind.flatten()\n",
    "np.random.shuffle(ind)\n",
    "y_new = y[ind]"
   ]
  },
  {
   "cell_type": "code",
   "execution_count": null,
   "metadata": {},
   "outputs": [],
   "source": [
    "count_new,_ = np.histogram(y_new, bins=10)\n",
    "plt.bar(range(10), count_new); plt.title('P(Y) SVHN balanced')"
   ]
  },
  {
   "cell_type": "code",
   "execution_count": null,
   "metadata": {},
   "outputs": [],
   "source": [
    "with open('/x/jhoffman/cyclegan_data/svhn2mnist/trainA/labels.txt', 'r') as f:\n",
    "    data = f.read().splitlines()\n",
    "\n",
    "parse = np.array([(int(x.split(' ')[0]), int(x.split(' ')[1])) for x in data])\n",
    "d = dict(parse)"
   ]
  },
  {
   "cell_type": "markdown",
   "metadata": {},
   "source": []
  },
  {
   "cell_type": "code",
   "execution_count": null,
   "metadata": {
    "collapsed": true
   },
   "outputs": [],
   "source": [
    "import sys\n",
    "\n",
    "# Print original sys.path\n",
    "print(\"Original sys.path:\", sys.path)\n",
    "\n",
    "# Define the path you want to remove\n",
    "path_to_remove = '..'\n",
    "\n",
    "# Remove the path if it exists in sys.path\n",
    "sys.path = [p for p in sys.path if p != path_to_remove]\n",
    "\n",
    "# Print modified sys.path\n",
    "print(\"Modified sys.path:\", sys.path)\n"
   ]
  }
 ],
 "metadata": {
  "kernelspec": {
   "display_name": "Python 3",
   "language": "python",
   "name": "python3"
  },
  "language_info": {
   "codemirror_mode": {
    "name": "ipython",
    "version": 3
   },
   "file_extension": ".py",
   "mimetype": "text/x-python",
   "name": "python",
   "nbconvert_exporter": "python",
   "pygments_lexer": "ipython3",
   "version": "3.7.8"
  }
 },
 "nbformat": 4,
 "nbformat_minor": 2
}
